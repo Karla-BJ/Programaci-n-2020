{
  "nbformat": 4,
  "nbformat_minor": 0,
  "metadata": {
    "colab": {
      "name": "Diccionarios.ipynb",
      "provenance": []
    },
    "kernelspec": {
      "name": "python3",
      "display_name": "Python 3"
    }
  },
  "cells": [
    {
      "cell_type": "code",
      "metadata": {
        "id": "ZAx4gNCChuG0"
      },
      "source": [
        ""
      ],
      "execution_count": null,
      "outputs": []
    },
    {
      "cell_type": "markdown",
      "metadata": {
        "id": "OJtzxwo6hvxT"
      },
      "source": [
        "# Diccionario"
      ]
    },
    {
      "cell_type": "code",
      "metadata": {
        "id": "hPQNfQethzF8",
        "outputId": "461ded7b-5c66-4d4d-dbb5-dbf125cc2a59",
        "colab": {
          "base_uri": "https://localhost:8080/"
        }
      },
      "source": [
        "diccionario = {}\n",
        "diccionario [\"Nombres\"]= [\"Laura*2\",\n",
        "                          \"Karla,\",\n",
        "                          \"Santi\",\n",
        "                          \"Juan\"]\n",
        "diccionario [\"Edades\"]= [17,16,18,20]\n",
        "print(diccionario) \n",
        "\n",
        "print(diccionario.keys())\n",
        "print(diccionario.values())\n",
        "\n"
      ],
      "execution_count": 2,
      "outputs": [
        {
          "output_type": "stream",
          "text": [
            "{'Nombres': ['Laura*2', 'Karla,', 'Santi', 'Juan'], 'Edades': [17, 16, 18, 20]}\n",
            "dict_keys(['Nombres', 'Edades'])\n",
            "dict_values([['Laura*2', 'Karla,', 'Santi', 'Juan'], [17, 16, 18, 20]])\n"
          ],
          "name": "stdout"
        }
      ]
    },
    {
      "cell_type": "markdown",
      "metadata": {
        "id": "PLJY_c2dk920"
      },
      "source": [
        "# Diccionarios de diccionario"
      ]
    },
    {
      "cell_type": "code",
      "metadata": {
        "id": "ZOEuT8m8jQb-",
        "outputId": "03e6d443-99af-4dbe-92fa-55a278565c13",
        "colab": {
          "base_uri": "https://localhost:8080/"
        }
      },
      "source": [
        "alimentos = {}\n",
        "alimentos [\"Carnes\"]= {\"Cerdo\": [\"costilla\", \"chuleta\", \"pierna\"],\n",
        "                       \"Res\": [\"Cola\",\"Solomo\", \"Punta de anca\"]}\n",
        "alimentos [\"Lácteos\"] = [\"Queso\", \"Leche\", \"yogurt\"]\n",
        "\n",
        "print (alimentos)\n",
        "print (alimentos.keys())\n",
        "print (alimentos[\"Carnes\"])\n",
        "print (alimentos[\"Carnes\"].keys())\n",
        "print (alimentos[\"Carnes\"][\"Cerdo\"])\n",
        "print (alimentos[\"Carnes\"][\"Cerdo\"][1])\n",
        "                       "
      ],
      "execution_count": 5,
      "outputs": [
        {
          "output_type": "stream",
          "text": [
            "{'Carnes': {'Cerdo': ['costilla', 'chuleta', 'pierna'], 'Res': ['Cola', 'Solomo', 'Punta de anca']}, 'Lácteos': ['Queso', 'Leche', 'yogurt']}\n",
            "dict_keys(['Carnes', 'Lácteos'])\n",
            "{'Cerdo': ['costilla', 'chuleta', 'pierna'], 'Res': ['Cola', 'Solomo', 'Punta de anca']}\n",
            "dict_keys(['Cerdo', 'Res'])\n",
            "['costilla', 'chuleta', 'pierna']\n",
            "chuleta\n"
          ],
          "name": "stdout"
        }
      ]
    },
    {
      "cell_type": "markdown",
      "metadata": {
        "id": "RzgYPtbWlXjV"
      },
      "source": [
        "# Operaciones con diccionario"
      ]
    },
    {
      "cell_type": "code",
      "metadata": {
        "id": "-4fqGVQslc81"
      },
      "source": [
        "alimentos2= alimentos.copy()\n",
        "alimentos3= alimentos\n",
        "alimentos2 [\"Carnes\"]= {}\n",
        "alimentos3 [\"Carnes\"]= {}\n",
        "alimentos [\"carnes\"]\n"
      ],
      "execution_count": null,
      "outputs": []
    },
    {
      "cell_type": "markdown",
      "metadata": {
        "id": "Za3YuwhbmrE9"
      },
      "source": [
        "# From keys (Dictar)"
      ]
    },
    {
      "cell_type": "code",
      "metadata": {
        "id": "roPjjO4tmt8c"
      },
      "source": [
        "keys= [\"Nombres\", \"Edades\", \"Semestre\"]\n",
        "\n",
        "estudiantesCES= dict.fromkeys(keys)\n",
        "estudiantesCes"
      ],
      "execution_count": null,
      "outputs": []
    },
    {
      "cell_type": "markdown",
      "metadata": {
        "id": "z1EykWkLnZTN"
      },
      "source": [
        "# Get()"
      ]
    },
    {
      "cell_type": "code",
      "metadata": {
        "id": "UXUFnlaUncVY",
        "outputId": "16be0422-7309-47bc-a742-9fb1990a3492",
        "colab": {
          "base_uri": "https://localhost:8080/"
        }
      },
      "source": [
        "alimentos.get(\"Carnes\").get(\"Cerdo\")\n"
      ],
      "execution_count": 6,
      "outputs": [
        {
          "output_type": "execute_result",
          "data": {
            "text/plain": [
              "['costilla', 'chuleta', 'pierna']"
            ]
          },
          "metadata": {
            "tags": []
          },
          "execution_count": 6
        }
      ]
    },
    {
      "cell_type": "markdown",
      "metadata": {
        "id": "XfUaL0iQoNRx"
      },
      "source": [
        "# Eliminar (pop)\n"
      ]
    },
    {
      "cell_type": "code",
      "metadata": {
        "id": "UUH9gnAsoTNp",
        "outputId": "fdbafe94-4ebb-4659-8e47-df3709bd1cc7",
        "colab": {
          "base_uri": "https://localhost:8080/"
        }
      },
      "source": [
        "alimentos [\"Carnes\"].pop (\"Cerdo\")\n",
        "alimentos.get (\"Carnes\")"
      ],
      "execution_count": 7,
      "outputs": [
        {
          "output_type": "execute_result",
          "data": {
            "text/plain": [
              "{'Res': ['Cola', 'Solomo', 'Punta de anca']}"
            ]
          },
          "metadata": {
            "tags": []
          },
          "execution_count": 7
        }
      ]
    },
    {
      "cell_type": "markdown",
      "metadata": {
        "id": "rQvgOVmro1Xh"
      },
      "source": [
        "# Crear nueva llave (setdefault) "
      ]
    },
    {
      "cell_type": "code",
      "metadata": {
        "id": "T_Vfo1yIpt13",
        "outputId": "940a8a38-c9c1-4682-876d-9f0c0d11c499",
        "colab": {
          "base_uri": "https://localhost:8080/"
        }
      },
      "source": [
        "print (alimentos.get (\"Lácteos\"))\n",
        "alimentos.setdefault(\"Nueva\", [\"yogurt\", \"queso\", \"leche\", \"lecherita\", \"cuajada\"])\n",
        "print (alimentos)"
      ],
      "execution_count": 13,
      "outputs": [
        {
          "output_type": "stream",
          "text": [
            "['Queso', 'Leche', 'yogurt']\n",
            "{'Carnes': {'Res': ['Cola', 'Solomo', 'Punta de anca']}, 'Lácteos': ['Queso', 'Leche', 'yogurt'], 'Nueva': ['yogurt', 'queso', 'leche', 'lecherita', 'cuajada']}\n"
          ],
          "name": "stdout"
        }
      ]
    },
    {
      "cell_type": "markdown",
      "metadata": {
        "id": "W8-YSdAqrDhW"
      },
      "source": [
        "# Ejemplo tecnología"
      ]
    },
    {
      "cell_type": "code",
      "metadata": {
        "id": "ld2y6xyjrdDV",
        "outputId": "5230eee8-cbd6-40c8-ff1c-3f714ee39f81",
        "colab": {
          "base_uri": "https://localhost:8080/"
        }
      },
      "source": [
        "tecnologia = {}\n",
        "tecnologia.setdefault ('AI', ['Vision Art', 'Lectura Art', 'Escucha Art', 'Interpretación Art'])\n",
        "tecnologia.setdefault ('PC', ['Procesadores', 'RAM'])\n",
        "tecnologia"
      ],
      "execution_count": 14,
      "outputs": [
        {
          "output_type": "execute_result",
          "data": {
            "text/plain": [
              "{'AI': ['Vision Art', 'Lectura Art', 'Escucha Art', 'Interpretación Art'],\n",
              " 'PC': ['Procesadores', 'RAM']}"
            ]
          },
          "metadata": {
            "tags": []
          },
          "execution_count": 14
        }
      ]
    }
  ]
}